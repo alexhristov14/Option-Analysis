{
 "cells": [
  {
   "cell_type": "code",
   "execution_count": 2,
   "metadata": {},
   "outputs": [
    {
     "name": "stderr",
     "output_type": "stream",
     "text": [
      "/Users/I750118/Library/Python/3.9/lib/python/site-packages/urllib3/__init__.py:35: NotOpenSSLWarning: urllib3 v2 only supports OpenSSL 1.1.1+, currently the 'ssl' module is compiled with 'LibreSSL 2.8.3'. See: https://github.com/urllib3/urllib3/issues/3020\n",
      "  warnings.warn(\n"
     ]
    }
   ],
   "source": [
    "import yfinance as yf\n",
    "import numpy as np\n",
    "import scipy.stats as si\n",
    "import matplotlib.pyplot as plt\n",
    "import mplfinance as mpf\n",
    "import plotly.graph_objects as go\n",
    "from datetime import datetime\n",
    "import pandas as pd\n",
    "import warnings\n",
    "\n",
    "warnings.filterwarnings(\"ignore\")"
   ]
  },
  {
   "cell_type": "code",
   "execution_count": 3,
   "metadata": {},
   "outputs": [],
   "source": [
    "class BlackScholesModel:\n",
    "    def __init__(self, S, K, T, r, sigma):\n",
    "        self.S = S        # Underlying asset price\n",
    "        self.K = K        # Option strike price\n",
    "        self.T = T / 365  # Time to expiration in years\n",
    "        self.r = r        # Risk-free interest rate\n",
    "        self.sigma = sigma  # Volatility of the underlying asset\n",
    "\n",
    "    def d1(self):\n",
    "        return (np.log(self.S / self.K) + (self.r + 0.5 * self.sigma ** 2) * self.T) / (self.sigma * np.sqrt(self.T))\n",
    "    \n",
    "    def d2(self):\n",
    "        return self.d1() - self.sigma * np.sqrt(self.T)\n",
    "    \n",
    "    def call_option_price(self):\n",
    "        return (self.S * si.norm.cdf(self.d1(), 0.0, 1.0) - self.K * np.exp(-self.r * self.T) * si.norm.cdf(self.d2(), 0.0, 1.0))\n",
    "    \n",
    "    def put_option_price(self):\n",
    "        return (self.K * np.exp(-self.r * self.T) * si.norm.cdf(-self.d2(), 0.0, 1.0) - self.S * si.norm.cdf(-self.d1(), 0.0, 1.0))"
   ]
  },
  {
   "cell_type": "code",
   "execution_count": null,
   "metadata": {},
   "outputs": [],
   "source": [
    "class BinomialOptionsPricing:\n",
    "    def __init__(self, S, K, T, r, sigma, q, n) -> None:\n",
    "        self.S = S       # Underlying asset price (current price)\n",
    "        self.K = K       # Option strike price\n",
    "        self.T = T / 365 # Time to expiration in years\n",
    "        self.r = r       # Risk-free interest rate\n",
    "        self.sigma = sigma # Volatility of the underlying asset\n",
    "        self.q = q       # Dividend yield\n",
    "        self.n = n       # Number of time steps / height of the binomial tree\n",
    "\n",
    "    def call_option_price(self):\n",
    "        delta = self.T / self.n\n",
    "        u = np.exp(self.sigma * np.sqrt(delta))\n",
    "        #TODO"
   ]
  },
  {
   "cell_type": "code",
   "execution_count": 45,
   "metadata": {},
   "outputs": [],
   "source": [
    "class OptionAnalyzer:\n",
    "    def __init__(self, token) -> None:\n",
    "        self.ticker = yf.Ticker(token)\n",
    "        self.current_price = self.ticker.history(period='1d')['Close'][0]\n",
    "        self.data = pd.DataFrame()\n",
    "\n",
    "    def get_options_data(self) -> pd.DataFrame:\n",
    "        dates = self.ticker.options\n",
    "        options_data_calls = pd.DataFrame()\n",
    "        options_data_puts = pd.DataFrame()\n",
    "\n",
    "        for date in dates:\n",
    "            opt = self.ticker.option_chain(date)\n",
    "            opt_data_calls = opt.calls\n",
    "            opt_data_calls['Expiration'] = date\n",
    "            opt_data_puts = opt.puts\n",
    "            opt_data_puts['Expiration'] = date\n",
    "            options_data_calls = pd.concat([options_data_calls, opt_data_calls])\n",
    "            options_data_puts = pd.concat([options_data_puts, opt_data_puts])\n",
    "\n",
    "        return options_data_calls, options_data_puts\n",
    "\n",
    "    def plot_expiry_date(self, contractType, date) -> None:\n",
    "        if contractType == 'call':\n",
    "            self.data = self.get_options_data()[0]\n",
    "            self.data = self.data[self.data['Expiration'] == date]\n",
    "        else:\n",
    "            self.data = self.get_options_data()[1]\n",
    "            self.data = self.data[self.data['Expiration'] == date]\n",
    "\n",
    "        plt.figure(figsize=(10, 6))\n",
    "        plt.plot(self.data['strike'], self.data['ask'], 'o')\n",
    "        plt.xlabel('Strike')\n",
    "        plt.ylabel('Premium')\n",
    "        plt.title('Option Premium vs Strike for ' + contractType + ' options expiring on ' + date)\n",
    "        plt.show()\n",
    "\n",
    "    def modal(self, modal, maturity) -> pd.DataFrame:\n",
    "        calls, puts = self.get_options_data()\n",
    "        calls = calls[calls['Expiration'] == maturity]\n",
    "        puts = puts[puts['Expiration'] == maturity]\n",
    "        calls[f'{modal} Price'] = modal(calls['lastPrice'], calls['strike'], self.days_between(calls['Expiration'], datetime.today()), 0.05, 0.2).call_option_price()\n",
    "        puts[f'{modal} Price'] = modal(puts['lastPrice'], puts['strike'], self.days_between(puts['Expiration'], datetime.today()), 0.05, 0.2).put_option_price()\n",
    "\n",
    "        return calls, puts\n",
    "    \n",
    "    \n",
    "    def days_between(d1, d2) -> int:\n",
    "        d1 = datetime.strptime(d1, \"%Y-%m-%d\")\n",
    "        d2 = datetime.strptime(d2, \"%Y-%m-%d\")\n",
    "        return abs((d2 - d1).days)"
   ]
  },
  {
   "cell_type": "code",
   "execution_count": null,
   "metadata": {},
   "outputs": [],
   "source": []
  }
 ],
 "metadata": {
  "kernelspec": {
   "display_name": "Python 3",
   "language": "python",
   "name": "python3"
  },
  "language_info": {
   "codemirror_mode": {
    "name": "ipython",
    "version": 3
   },
   "file_extension": ".py",
   "mimetype": "text/x-python",
   "name": "python",
   "nbconvert_exporter": "python",
   "pygments_lexer": "ipython3",
   "version": "3.9.6"
  }
 },
 "nbformat": 4,
 "nbformat_minor": 2
}
